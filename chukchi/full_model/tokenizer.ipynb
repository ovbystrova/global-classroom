{
 "cells": [
  {
   "cell_type": "code",
   "execution_count": 1,
   "metadata": {},
   "outputs": [],
   "source": [
    "import pandas as pd\n",
    "from tokenizers import SentencePieceBPETokenizer"
   ]
  },
  {
   "cell_type": "code",
   "execution_count": 2,
   "metadata": {
    "collapsed": false,
    "jupyter": {
     "outputs_hidden": false
    },
    "pycharm": {
     "name": "#%%\n"
    }
   },
   "outputs": [
    {
     "data": {
      "text/html": [
       "<div>\n",
       "<style scoped>\n",
       "    .dataframe tbody tr th:only-of-type {\n",
       "        vertical-align: middle;\n",
       "    }\n",
       "\n",
       "    .dataframe tbody tr th {\n",
       "        vertical-align: top;\n",
       "    }\n",
       "\n",
       "    .dataframe thead th {\n",
       "        text-align: right;\n",
       "    }\n",
       "</style>\n",
       "<table border=\"1\" class=\"dataframe\">\n",
       "  <thead>\n",
       "    <tr style=\"text-align: right;\">\n",
       "      <th></th>\n",
       "      <th>0</th>\n",
       "      <th>1</th>\n",
       "    </tr>\n",
       "  </thead>\n",
       "  <tbody>\n",
       "    <tr>\n",
       "      <th>0</th>\n",
       "      <td>амаравкэваратэн таа’койӈын</td>\n",
       "      <td>а&gt;маравкэва&gt;ра&gt;тэн таа&gt;’ко&gt;йӈы&gt;н</td>\n",
       "    </tr>\n",
       "    <tr>\n",
       "      <th>1</th>\n",
       "      <td>йъйыӄык ныӄэԓпэратӄэн вытэчгытрыӄэргыԓьын йыӈэ...</td>\n",
       "      <td>йъйыӄы&gt;к ны&gt;ӄэԓпэр&gt;ат&gt;ӄэн вытэч&gt;гытры&gt;ӄэргы&gt;ԓь...</td>\n",
       "    </tr>\n",
       "    <tr>\n",
       "      <th>2</th>\n",
       "      <td>мыкыӈ нывытрэтӄин чеԓгатвытрыԓьо ынӄорыым вытэ...</td>\n",
       "      <td>мык&gt;ы&gt;ӈ ны&gt;вытрэт&gt;ӄин чеԓг&gt;ат&gt;вытры&gt;ԓь&gt;о ынӄор...</td>\n",
       "    </tr>\n",
       "    <tr>\n",
       "      <th>3</th>\n",
       "      <td>ынӄорыым ныӄэргавыӈоӄэн нычеԓгъав</td>\n",
       "      <td>ынӄор&gt;ыым ны&gt;ӄэргав&gt;ыӈо&gt;ӄэн ны&gt;чеԓ&gt;гъа&gt;в</td>\n",
       "    </tr>\n",
       "    <tr>\n",
       "      <th>4</th>\n",
       "      <td>ыԓьыԓе ыннаны гэнниӈэвԓин аэродром эԓгыкъаԓейп...</td>\n",
       "      <td>ы&gt;ԓьы&gt;ԓе ыннаны гэ&gt;нн&gt;иӈэв&gt;ԓин аэродр&gt;ом эԓгы&gt;...</td>\n",
       "    </tr>\n",
       "  </tbody>\n",
       "</table>\n",
       "</div>"
      ],
      "text/plain": [
       "                                                   0  \\\n",
       "0                         амаравкэваратэн таа’койӈын   \n",
       "1  йъйыӄык ныӄэԓпэратӄэн вытэчгытрыӄэргыԓьын йыӈэ...   \n",
       "2  мыкыӈ нывытрэтӄин чеԓгатвытрыԓьо ынӄорыым вытэ...   \n",
       "3                  ынӄорыым ныӄэргавыӈоӄэн нычеԓгъав   \n",
       "4  ыԓьыԓе ыннаны гэнниӈэвԓин аэродром эԓгыкъаԓейп...   \n",
       "\n",
       "                                                   1  \n",
       "0                   а>маравкэва>ра>тэн таа>’ко>йӈы>н  \n",
       "1  йъйыӄы>к ны>ӄэԓпэр>ат>ӄэн вытэч>гытры>ӄэргы>ԓь...  \n",
       "2  мык>ы>ӈ ны>вытрэт>ӄин чеԓг>ат>вытры>ԓь>о ынӄор...  \n",
       "3           ынӄор>ыым ны>ӄэргав>ыӈо>ӄэн ны>чеԓ>гъа>в  \n",
       "4  ы>ԓьы>ԓе ыннаны гэ>нн>иӈэв>ԓин аэродр>ом эԓгы>...  "
      ]
     },
     "execution_count": 2,
     "metadata": {},
     "output_type": "execute_result"
    }
   ],
   "source": [
    "df = pd.read_csv('../data/train_dev.tsv', header=None, sep='\\t')\n",
    "df.dropna(inplace=True)\n",
    "df.head()"
   ]
  },
  {
   "cell_type": "code",
   "execution_count": 3,
   "metadata": {
    "collapsed": false,
    "jupyter": {
     "outputs_hidden": false
    },
    "pycharm": {
     "name": "#%%\n"
    }
   },
   "outputs": [
    {
     "data": {
      "text/html": [
       "<div>\n",
       "<style scoped>\n",
       "    .dataframe tbody tr th:only-of-type {\n",
       "        vertical-align: middle;\n",
       "    }\n",
       "\n",
       "    .dataframe tbody tr th {\n",
       "        vertical-align: top;\n",
       "    }\n",
       "\n",
       "    .dataframe thead th {\n",
       "        text-align: right;\n",
       "    }\n",
       "</style>\n",
       "<table border=\"1\" class=\"dataframe\">\n",
       "  <thead>\n",
       "    <tr style=\"text-align: right;\">\n",
       "      <th></th>\n",
       "      <th>0</th>\n",
       "      <th>1</th>\n",
       "      <th>text</th>\n",
       "    </tr>\n",
       "  </thead>\n",
       "  <tbody>\n",
       "    <tr>\n",
       "      <th>0</th>\n",
       "      <td>амаравкэваратэн таа’койӈын</td>\n",
       "      <td>а&gt;маравкэва&gt;ра&gt;тэн таа&gt;’ко&gt;йӈы&gt;н</td>\n",
       "      <td># амаравкэваратэн таа’койӈын</td>\n",
       "    </tr>\n",
       "    <tr>\n",
       "      <th>1</th>\n",
       "      <td>йъйыӄык ныӄэԓпэратӄэн вытэчгытрыӄэргыԓьын йыӈэ...</td>\n",
       "      <td>йъйыӄы&gt;к ны&gt;ӄэԓпэр&gt;ат&gt;ӄэн вытэч&gt;гытры&gt;ӄэргы&gt;ԓь...</td>\n",
       "      <td># йъйыӄык ныӄэԓпэратӄэн вытэчгытрыӄэргыԓьын йы...</td>\n",
       "    </tr>\n",
       "    <tr>\n",
       "      <th>2</th>\n",
       "      <td>мыкыӈ нывытрэтӄин чеԓгатвытрыԓьо ынӄорыым вытэ...</td>\n",
       "      <td>мык&gt;ы&gt;ӈ ны&gt;вытрэт&gt;ӄин чеԓг&gt;ат&gt;вытры&gt;ԓь&gt;о ынӄор...</td>\n",
       "      <td># мыкыӈ нывытрэтӄин чеԓгатвытрыԓьо ынӄорыым вы...</td>\n",
       "    </tr>\n",
       "    <tr>\n",
       "      <th>3</th>\n",
       "      <td>ынӄорыым ныӄэргавыӈоӄэн нычеԓгъав</td>\n",
       "      <td>ынӄор&gt;ыым ны&gt;ӄэргав&gt;ыӈо&gt;ӄэн ны&gt;чеԓ&gt;гъа&gt;в</td>\n",
       "      <td># ынӄорыым ныӄэргавыӈоӄэн нычеԓгъав</td>\n",
       "    </tr>\n",
       "    <tr>\n",
       "      <th>4</th>\n",
       "      <td>ыԓьыԓе ыннаны гэнниӈэвԓин аэродром эԓгыкъаԓейп...</td>\n",
       "      <td>ы&gt;ԓьы&gt;ԓе ыннаны гэ&gt;нн&gt;иӈэв&gt;ԓин аэродр&gt;ом эԓгы&gt;...</td>\n",
       "      <td># ыԓьыԓе ыннаны гэнниӈэвԓин аэродром эԓгыкъаԓе...</td>\n",
       "    </tr>\n",
       "  </tbody>\n",
       "</table>\n",
       "</div>"
      ],
      "text/plain": [
       "                                                   0  \\\n",
       "0                         амаравкэваратэн таа’койӈын   \n",
       "1  йъйыӄык ныӄэԓпэратӄэн вытэчгытрыӄэргыԓьын йыӈэ...   \n",
       "2  мыкыӈ нывытрэтӄин чеԓгатвытрыԓьо ынӄорыым вытэ...   \n",
       "3                  ынӄорыым ныӄэргавыӈоӄэн нычеԓгъав   \n",
       "4  ыԓьыԓе ыннаны гэнниӈэвԓин аэродром эԓгыкъаԓейп...   \n",
       "\n",
       "                                                   1  \\\n",
       "0                   а>маравкэва>ра>тэн таа>’ко>йӈы>н   \n",
       "1  йъйыӄы>к ны>ӄэԓпэр>ат>ӄэн вытэч>гытры>ӄэргы>ԓь...   \n",
       "2  мык>ы>ӈ ны>вытрэт>ӄин чеԓг>ат>вытры>ԓь>о ынӄор...   \n",
       "3           ынӄор>ыым ны>ӄэргав>ыӈо>ӄэн ны>чеԓ>гъа>в   \n",
       "4  ы>ԓьы>ԓе ыннаны гэ>нн>иӈэв>ԓин аэродр>ом эԓгы>...   \n",
       "\n",
       "                                                text  \n",
       "0                       # амаравкэваратэн таа’койӈын  \n",
       "1  # йъйыӄык ныӄэԓпэратӄэн вытэчгытрыӄэргыԓьын йы...  \n",
       "2  # мыкыӈ нывытрэтӄин чеԓгатвытрыԓьо ынӄорыым вы...  \n",
       "3                # ынӄорыым ныӄэргавыӈоӄэн нычеԓгъав  \n",
       "4  # ыԓьыԓе ыннаны гэнниӈэвԓин аэродром эԓгыкъаԓе...  "
      ]
     },
     "execution_count": 3,
     "metadata": {},
     "output_type": "execute_result"
    }
   ],
   "source": [
    "df['text'] = df[0].apply(lambda x: '# ' + str(x))\n",
    "df.head()"
   ]
  },
  {
   "cell_type": "code",
   "execution_count": 4,
   "metadata": {
    "collapsed": false,
    "jupyter": {
     "outputs_hidden": false
    },
    "pycharm": {
     "name": "#%%\n"
    }
   },
   "outputs": [],
   "source": [
    "with open('texts.txt', 'w', encoding='utf-8') as f:\n",
    "    f.write(' '.join(list(df['text'])))"
   ]
  },
  {
   "cell_type": "code",
   "execution_count": 5,
   "metadata": {
    "collapsed": false,
    "jupyter": {
     "outputs_hidden": false
    },
    "pycharm": {
     "is_executing": true,
     "name": "#%%\n"
    }
   },
   "outputs": [
    {
     "data": {
      "text/plain": [
       "Tokenizer(vocabulary_size=27948, model=SentencePieceBPE, unk_token=<unk>, replacement=▁, add_prefix_space=True, dropout=None)"
      ]
     },
     "execution_count": 5,
     "metadata": {},
     "output_type": "execute_result"
    }
   ],
   "source": [
    "tokenizer = SentencePieceBPETokenizer()\n",
    "tokenizer.train(['texts.txt'],\n",
    "                special_tokens=['#'],\n",
    "                vocab_size=30000)\n",
    "tokenizer"
   ]
  },
  {
   "cell_type": "code",
   "execution_count": 9,
   "metadata": {
    "collapsed": false,
    "jupyter": {
     "outputs_hidden": false
    },
    "pycharm": {
     "is_executing": true,
     "name": "#%%\n"
    }
   },
   "outputs": [],
   "source": [
    "import pickle"
   ]
  },
  {
   "cell_type": "code",
   "execution_count": 10,
   "metadata": {
    "collapsed": false,
    "jupyter": {
     "outputs_hidden": false
    },
    "pycharm": {
     "name": "#%%\n"
    }
   },
   "outputs": [],
   "source": [
    "with open(\"tokenizer.pickle\", 'wb') as f:\n",
    "    pickle.dump(tokenizer, f)"
   ]
  },
  {
   "cell_type": "code",
   "execution_count": null,
   "metadata": {},
   "outputs": [],
   "source": []
  }
 ],
 "metadata": {
  "kernelspec": {
   "display_name": "Python 3",
   "language": "python",
   "name": "python3"
  },
  "language_info": {
   "codemirror_mode": {
    "name": "ipython",
    "version": 3
   },
   "file_extension": ".py",
   "mimetype": "text/x-python",
   "name": "python",
   "nbconvert_exporter": "python",
   "pygments_lexer": "ipython3",
   "version": "3.8.7"
  }
 },
 "nbformat": 4,
 "nbformat_minor": 4
}
